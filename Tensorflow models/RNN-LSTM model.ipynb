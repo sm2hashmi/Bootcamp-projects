{
 "cells": [
  {
   "cell_type": "code",
   "execution_count": 1,
   "metadata": {},
   "outputs": [],
   "source": [
    "import pandas as pd"
   ]
  },
  {
   "cell_type": "code",
   "execution_count": 2,
   "metadata": {},
   "outputs": [],
   "source": [
    "df=pd.read_excel('DATA.xlsx')"
   ]
  },
  {
   "cell_type": "code",
   "execution_count": 3,
   "metadata": {},
   "outputs": [
    {
     "data": {
      "text/html": [
       "<div>\n",
       "<style scoped>\n",
       "    .dataframe tbody tr th:only-of-type {\n",
       "        vertical-align: middle;\n",
       "    }\n",
       "\n",
       "    .dataframe tbody tr th {\n",
       "        vertical-align: top;\n",
       "    }\n",
       "\n",
       "    .dataframe thead th {\n",
       "        text-align: right;\n",
       "    }\n",
       "</style>\n",
       "<table border=\"1\" class=\"dataframe\">\n",
       "  <thead>\n",
       "    <tr style=\"text-align: right;\">\n",
       "      <th></th>\n",
       "      <th>Date</th>\n",
       "      <th>Milk</th>\n",
       "      <th>Tea</th>\n",
       "      <th>Coffee</th>\n",
       "      <th>Onion</th>\n",
       "      <th>Yougurt</th>\n",
       "      <th>Bread</th>\n",
       "      <th>Catchup</th>\n",
       "      <th>Egg</th>\n",
       "      <th>Fish</th>\n",
       "      <th>SoftDrink</th>\n",
       "      <th>Rice</th>\n",
       "    </tr>\n",
       "  </thead>\n",
       "  <tbody>\n",
       "    <tr>\n",
       "      <td>0</td>\n",
       "      <td>2018-01-01</td>\n",
       "      <td>1</td>\n",
       "      <td>1</td>\n",
       "      <td>1</td>\n",
       "      <td>1</td>\n",
       "      <td>1</td>\n",
       "      <td>1</td>\n",
       "      <td>1</td>\n",
       "      <td>1</td>\n",
       "      <td>1</td>\n",
       "      <td>0</td>\n",
       "      <td>0</td>\n",
       "    </tr>\n",
       "    <tr>\n",
       "      <td>1</td>\n",
       "      <td>2018-01-02</td>\n",
       "      <td>1</td>\n",
       "      <td>1</td>\n",
       "      <td>0</td>\n",
       "      <td>0</td>\n",
       "      <td>1</td>\n",
       "      <td>0</td>\n",
       "      <td>0</td>\n",
       "      <td>1</td>\n",
       "      <td>0</td>\n",
       "      <td>1</td>\n",
       "      <td>0</td>\n",
       "    </tr>\n",
       "    <tr>\n",
       "      <td>2</td>\n",
       "      <td>2018-01-03</td>\n",
       "      <td>1</td>\n",
       "      <td>1</td>\n",
       "      <td>0</td>\n",
       "      <td>1</td>\n",
       "      <td>0</td>\n",
       "      <td>1</td>\n",
       "      <td>0</td>\n",
       "      <td>0</td>\n",
       "      <td>0</td>\n",
       "      <td>1</td>\n",
       "      <td>0</td>\n",
       "    </tr>\n",
       "    <tr>\n",
       "      <td>3</td>\n",
       "      <td>2018-01-04</td>\n",
       "      <td>1</td>\n",
       "      <td>1</td>\n",
       "      <td>1</td>\n",
       "      <td>0</td>\n",
       "      <td>0</td>\n",
       "      <td>1</td>\n",
       "      <td>0</td>\n",
       "      <td>1</td>\n",
       "      <td>0</td>\n",
       "      <td>1</td>\n",
       "      <td>1</td>\n",
       "    </tr>\n",
       "    <tr>\n",
       "      <td>4</td>\n",
       "      <td>2018-01-05</td>\n",
       "      <td>1</td>\n",
       "      <td>1</td>\n",
       "      <td>1</td>\n",
       "      <td>1</td>\n",
       "      <td>1</td>\n",
       "      <td>1</td>\n",
       "      <td>0</td>\n",
       "      <td>1</td>\n",
       "      <td>1</td>\n",
       "      <td>0</td>\n",
       "      <td>1</td>\n",
       "    </tr>\n",
       "  </tbody>\n",
       "</table>\n",
       "</div>"
      ],
      "text/plain": [
       "        Date  Milk  Tea  Coffee  Onion  Yougurt  Bread  Catchup  Egg  Fish  \\\n",
       "0 2018-01-01     1    1       1      1        1      1        1    1     1   \n",
       "1 2018-01-02     1    1       0      0        1      0        0    1     0   \n",
       "2 2018-01-03     1    1       0      1        0      1        0    0     0   \n",
       "3 2018-01-04     1    1       1      0        0      1        0    1     0   \n",
       "4 2018-01-05     1    1       1      1        1      1        0    1     1   \n",
       "\n",
       "   SoftDrink  Rice  \n",
       "0          0     0  \n",
       "1          1     0  \n",
       "2          1     0  \n",
       "3          1     1  \n",
       "4          0     1  "
      ]
     },
     "execution_count": 3,
     "metadata": {},
     "output_type": "execute_result"
    }
   ],
   "source": [
    "df.head()"
   ]
  },
  {
   "cell_type": "code",
   "execution_count": 4,
   "metadata": {},
   "outputs": [],
   "source": [
    "df.set_index('Date',inplace=True)"
   ]
  },
  {
   "cell_type": "code",
   "execution_count": 79,
   "metadata": {},
   "outputs": [],
   "source": [
    "test_df=df.iloc[47:,:]"
   ]
  },
  {
   "cell_type": "code",
   "execution_count": null,
   "metadata": {},
   "outputs": [],
   "source": [
    "X"
   ]
  },
  {
   "cell_type": "code",
   "execution_count": 5,
   "metadata": {},
   "outputs": [],
   "source": [
    "X=df.values"
   ]
  },
  {
   "cell_type": "code",
   "execution_count": 6,
   "metadata": {},
   "outputs": [],
   "source": [
    "from sklearn.model_selection import train_test_split"
   ]
  },
  {
   "cell_type": "code",
   "execution_count": 7,
   "metadata": {},
   "outputs": [],
   "source": [
    "X_train,X_test=train_test_split(X,train_size=0.8,shuffle=False)"
   ]
  },
  {
   "cell_type": "code",
   "execution_count": 8,
   "metadata": {},
   "outputs": [
    {
     "data": {
      "text/plain": [
       "(47, 11)"
      ]
     },
     "execution_count": 8,
     "metadata": {},
     "output_type": "execute_result"
    }
   ],
   "source": [
    "X_train.shape"
   ]
  },
  {
   "cell_type": "code",
   "execution_count": 9,
   "metadata": {},
   "outputs": [
    {
     "data": {
      "text/plain": [
       "(12, 11)"
      ]
     },
     "execution_count": 9,
     "metadata": {},
     "output_type": "execute_result"
    }
   ],
   "source": [
    "X_test.shape"
   ]
  },
  {
   "cell_type": "code",
   "execution_count": 10,
   "metadata": {},
   "outputs": [
    {
     "name": "stderr",
     "output_type": "stream",
     "text": [
      "Using TensorFlow backend.\n"
     ]
    }
   ],
   "source": [
    "from keras.preprocessing.sequence import TimeseriesGenerator"
   ]
  },
  {
   "cell_type": "code",
   "execution_count": 11,
   "metadata": {},
   "outputs": [],
   "source": [
    "n_input=3\n",
    "features=11\n",
    "\n",
    "generator=TimeseriesGenerator(X_train,X_train,length=n_input)"
   ]
  },
  {
   "cell_type": "code",
   "execution_count": 12,
   "metadata": {},
   "outputs": [],
   "source": [
    "from keras.models import Sequential"
   ]
  },
  {
   "cell_type": "code",
   "execution_count": 13,
   "metadata": {},
   "outputs": [],
   "source": [
    "model=Sequential()"
   ]
  },
  {
   "cell_type": "code",
   "execution_count": 14,
   "metadata": {},
   "outputs": [],
   "source": [
    "from keras import layers"
   ]
  },
  {
   "cell_type": "code",
   "execution_count": 15,
   "metadata": {},
   "outputs": [],
   "source": [
    "model.add(layers.LSTM(200,activation='relu',input_shape=(n_input,features)))\n",
    "model.add(layers.Dropout(0.1))\n",
    "model.add(layers.Dense(126,activation='relu'))\n",
    "model.add(layers.Dense(11,activation='sigmoid'))"
   ]
  },
  {
   "cell_type": "code",
   "execution_count": 16,
   "metadata": {},
   "outputs": [
    {
     "name": "stdout",
     "output_type": "stream",
     "text": [
      "Model: \"sequential_1\"\n",
      "_________________________________________________________________\n",
      "Layer (type)                 Output Shape              Param #   \n",
      "=================================================================\n",
      "lstm_1 (LSTM)                (None, 200)               169600    \n",
      "_________________________________________________________________\n",
      "dropout_1 (Dropout)          (None, 200)               0         \n",
      "_________________________________________________________________\n",
      "dense_1 (Dense)              (None, 126)               25326     \n",
      "_________________________________________________________________\n",
      "dense_2 (Dense)              (None, 11)                1397      \n",
      "=================================================================\n",
      "Total params: 196,323\n",
      "Trainable params: 196,323\n",
      "Non-trainable params: 0\n",
      "_________________________________________________________________\n"
     ]
    }
   ],
   "source": [
    "model.summary()"
   ]
  },
  {
   "cell_type": "code",
   "execution_count": 17,
   "metadata": {},
   "outputs": [],
   "source": [
    "model.compile(optimizer='rmsprop',loss='MSE',metrics=['MAE'])"
   ]
  },
  {
   "cell_type": "code",
   "execution_count": 18,
   "metadata": {},
   "outputs": [
    {
     "name": "stdout",
     "output_type": "stream",
     "text": [
      "Epoch 1/30\n",
      "1/1 [==============================] - 0s 301ms/step - loss: 0.2503 - MAE: 0.5002\n",
      "Epoch 2/30\n",
      "1/1 [==============================] - 0s 7ms/step - loss: 0.2434 - MAE: 0.4931\n",
      "Epoch 3/30\n",
      "1/1 [==============================] - 0s 7ms/step - loss: 0.2373 - MAE: 0.4863\n",
      "Epoch 4/30\n",
      "1/1 [==============================] - 0s 16ms/step - loss: 0.2299 - MAE: 0.4774\n",
      "Epoch 5/30\n",
      "1/1 [==============================] - 0s 9ms/step - loss: 0.2217 - MAE: 0.4663\n",
      "Epoch 6/30\n",
      "1/1 [==============================] - 0s 16ms/step - loss: 0.2133 - MAE: 0.4530\n",
      "Epoch 7/30\n",
      "1/1 [==============================] - 0s 9ms/step - loss: 0.2048 - MAE: 0.4367\n",
      "Epoch 8/30\n",
      "1/1 [==============================] - 0s 16ms/step - loss: 0.1987 - MAE: 0.4214\n",
      "Epoch 9/30\n",
      "1/1 [==============================] - 0s 19ms/step - loss: 0.1954 - MAE: 0.4096\n",
      "Epoch 10/30\n",
      "1/1 [==============================] - 0s 24ms/step - loss: 0.1934 - MAE: 0.4024\n",
      "Epoch 11/30\n",
      "1/1 [==============================] - 0s 22ms/step - loss: 0.1915 - MAE: 0.3968\n",
      "Epoch 12/30\n",
      "1/1 [==============================] - 0s 23ms/step - loss: 0.1890 - MAE: 0.3921\n",
      "Epoch 13/30\n",
      "1/1 [==============================] - 0s 24ms/step - loss: 0.1872 - MAE: 0.3886\n",
      "Epoch 14/30\n",
      "1/1 [==============================] - 0s 22ms/step - loss: 0.1876 - MAE: 0.3884\n",
      "Epoch 15/30\n",
      "1/1 [==============================] - 0s 8ms/step - loss: 0.1853 - MAE: 0.3838\n",
      "Epoch 16/30\n",
      "1/1 [==============================] - 0s 16ms/step - loss: 0.1836 - MAE: 0.3832\n",
      "Epoch 17/30\n",
      "1/1 [==============================] - 0s 16ms/step - loss: 0.1834 - MAE: 0.3809\n",
      "Epoch 18/30\n",
      "1/1 [==============================] - 0s 16ms/step - loss: 0.1798 - MAE: 0.3787\n",
      "Epoch 19/30\n",
      "1/1 [==============================] - 0s 8ms/step - loss: 0.1789 - MAE: 0.3745\n",
      "Epoch 20/30\n",
      "1/1 [==============================] - 0s 16ms/step - loss: 0.1761 - MAE: 0.3735\n",
      "Epoch 21/30\n",
      "1/1 [==============================] - 0s 16ms/step - loss: 0.1737 - MAE: 0.3672\n",
      "Epoch 22/30\n",
      "1/1 [==============================] - 0s 22ms/step - loss: 0.1718 - MAE: 0.3675\n",
      "Epoch 23/30\n",
      "1/1 [==============================] - 0s 13ms/step - loss: 0.1712 - MAE: 0.3596\n",
      "Epoch 24/30\n",
      "1/1 [==============================] - 0s 10ms/step - loss: 0.1693 - MAE: 0.3643\n",
      "Epoch 25/30\n",
      "1/1 [==============================] - 0s 16ms/step - loss: 0.1671 - MAE: 0.3539\n",
      "Epoch 26/30\n",
      "1/1 [==============================] - 0s 16ms/step - loss: 0.1646 - MAE: 0.3588\n",
      "Epoch 27/30\n",
      "1/1 [==============================] - 0s 8ms/step - loss: 0.1631 - MAE: 0.3469\n",
      "Epoch 28/30\n",
      "1/1 [==============================] - 0s 14ms/step - loss: 0.1609 - MAE: 0.3543\n",
      "Epoch 29/30\n",
      "1/1 [==============================] - 0s 16ms/step - loss: 0.1601 - MAE: 0.3376\n",
      "Epoch 30/30\n",
      "1/1 [==============================] - 0s 26ms/step - loss: 0.1593 - MAE: 0.3521\n"
     ]
    }
   ],
   "source": [
    "history=model.fit_generator(generator,epochs=30)"
   ]
  },
  {
   "cell_type": "code",
   "execution_count": 19,
   "metadata": {},
   "outputs": [],
   "source": [
    "import matplotlib.pyplot as plt"
   ]
  },
  {
   "cell_type": "code",
   "execution_count": 20,
   "metadata": {},
   "outputs": [
    {
     "data": {
      "image/png": "[encoded data removed]",
      "text/plain": [
       "<Figure size 432x288 with 1 Axes>"
      ]
     },
     "metadata": {
      "needs_background": "light"
     },
     "output_type": "display_data"
    }
   ],
   "source": [
    "plt.plot(history.history['loss'],label='Training_loss')\n",
    "plt.plot(history.history['MAE'],label='Training_MAE')\n",
    "plt.legend()\n",
    "plt.show()"
   ]
  },
  {
   "cell_type": "code",
   "execution_count": 24,
   "metadata": {},
   "outputs": [],
   "source": [
    "n_input=3\n",
    "features=11\n",
    "\n",
    "tgenerator=TimeseriesGenerator(X_test,X_test,length=n_input)"
   ]
  },
  {
   "cell_type": "code",
   "execution_count": 26,
   "metadata": {},
   "outputs": [],
   "source": [
    "pred=model.predict_generator(tgenerator)"
   ]
  },
  {
   "cell_type": "code",
   "execution_count": 60,
   "metadata": {},
   "outputs": [
    {
     "data": {
      "text/plain": [
       "array([[1, 0, 1, 0, 1, 0, 0, 0, 1, 0, 0],\n",
       "       [1, 0, 0, 0, 1, 0, 0, 0, 0, 1, 0],\n",
       "       [1, 0, 0, 0, 0, 1, 0, 1, 0, 1, 0],\n",
       "       [1, 1, 0, 1, 0, 1, 0, 0, 0, 0, 1],\n",
       "       [1, 1, 0, 1, 0, 0, 0, 0, 1, 0, 0],\n",
       "       [1, 1, 1, 0, 0, 0, 0, 0, 0, 0, 0],\n",
       "       [1, 1, 1, 0, 0, 0, 0, 1, 0, 0, 0],\n",
       "       [1, 1, 0, 1, 1, 1, 0, 0, 0, 0, 1],\n",
       "       [1, 0, 0, 0, 0, 1, 0, 1, 0, 1, 0],\n",
       "       [1, 0, 0, 0, 1, 1, 0, 0, 0, 1, 0],\n",
       "       [1, 1, 1, 0, 1, 1, 0, 0, 0, 1, 0],\n",
       "       [1, 0, 0, 0, 1, 0, 0, 0, 1, 1, 0]], dtype=int64)"
      ]
     },
     "execution_count": 60,
     "metadata": {},
     "output_type": "execute_result"
    }
   ],
   "source": [
    "tgenerator.targets"
   ]
  },
  {
   "cell_type": "code",
   "execution_count": 30,
   "metadata": {},
   "outputs": [],
   "source": [
    "import numpy as np"
   ]
  },
  {
   "cell_type": "code",
   "execution_count": 31,
   "metadata": {},
   "outputs": [
    {
     "data": {
      "text/plain": [
       "array([[1., 1., 1., 0., 0., 1., 0., 1., 0., 0., 1.],\n",
       "       [1., 1., 1., 0., 0., 1., 0., 1., 0., 0., 1.],\n",
       "       [1., 1., 0., 0., 0., 1., 0., 0., 0., 0., 1.],\n",
       "       [1., 1., 0., 0., 0., 1., 0., 0., 0., 0., 1.],\n",
       "       [1., 1., 0., 0., 0., 1., 0., 0., 0., 0., 1.],\n",
       "       [1., 1., 0., 0., 0., 1., 0., 0., 0., 0., 0.],\n",
       "       [1., 1., 0., 0., 0., 1., 0., 0., 0., 0., 1.],\n",
       "       [1., 1., 0., 0., 0., 1., 0., 1., 0., 0., 1.],\n",
       "       [1., 1., 1., 0., 0., 1., 0., 1., 0., 0., 1.]], dtype=float32)"
      ]
     },
     "execution_count": 31,
     "metadata": {},
     "output_type": "execute_result"
    }
   ],
   "source": [
    "np.round(pred)"
   ]
  },
  {
   "cell_type": "code",
   "execution_count": 105,
   "metadata": {},
   "outputs": [],
   "source": [
    "test_df=test_df[:9]"
   ]
  },
  {
   "cell_type": "code",
   "execution_count": 189,
   "metadata": {},
   "outputs": [],
   "source": [
    "from keras.utils import normalize"
   ]
  },
  {
   "cell_type": "code",
   "execution_count": 190,
   "metadata": {},
   "outputs": [],
   "source": [
    "normalize_data=normalize(test_df)"
   ]
  },
  {
   "cell_type": "code",
   "execution_count": 159,
   "metadata": {},
   "outputs": [],
   "source": [
    "df_pred=pd.DataFrame(pred,index=test_df[:9].index,columns=df.columns)"
   ]
  },
  {
   "cell_type": "code",
   "execution_count": 160,
   "metadata": {},
   "outputs": [
    {
     "data": {
      "text/html": [
       "<div>\n",
       "<style scoped>\n",
       "    .dataframe tbody tr th:only-of-type {\n",
       "        vertical-align: middle;\n",
       "    }\n",
       "\n",
       "    .dataframe tbody tr th {\n",
       "        vertical-align: top;\n",
       "    }\n",
       "\n",
       "    .dataframe thead th {\n",
       "        text-align: right;\n",
       "    }\n",
       "</style>\n",
       "<table border=\"1\" class=\"dataframe\">\n",
       "  <thead>\n",
       "    <tr style=\"text-align: right;\">\n",
       "      <th></th>\n",
       "      <th>Milk</th>\n",
       "      <th>Tea</th>\n",
       "      <th>Coffee</th>\n",
       "      <th>Onion</th>\n",
       "      <th>Yougurt</th>\n",
       "      <th>Bread</th>\n",
       "      <th>Catchup</th>\n",
       "      <th>Egg</th>\n",
       "      <th>Fish</th>\n",
       "      <th>SoftDrink</th>\n",
       "      <th>Rice</th>\n",
       "    </tr>\n",
       "    <tr>\n",
       "      <th>Date</th>\n",
       "      <th></th>\n",
       "      <th></th>\n",
       "      <th></th>\n",
       "      <th></th>\n",
       "      <th></th>\n",
       "      <th></th>\n",
       "      <th></th>\n",
       "      <th></th>\n",
       "      <th></th>\n",
       "      <th></th>\n",
       "      <th></th>\n",
       "    </tr>\n",
       "  </thead>\n",
       "  <tbody>\n",
       "    <tr>\n",
       "      <td>2018-02-17</td>\n",
       "      <td>0.928224</td>\n",
       "      <td>0.740869</td>\n",
       "      <td>0.513411</td>\n",
       "      <td>0.390352</td>\n",
       "      <td>0.445495</td>\n",
       "      <td>0.700202</td>\n",
       "      <td>0.319493</td>\n",
       "      <td>0.554261</td>\n",
       "      <td>0.311186</td>\n",
       "      <td>0.224296</td>\n",
       "      <td>0.610882</td>\n",
       "    </tr>\n",
       "    <tr>\n",
       "      <td>2018-02-18</td>\n",
       "      <td>0.937224</td>\n",
       "      <td>0.779872</td>\n",
       "      <td>0.516901</td>\n",
       "      <td>0.348236</td>\n",
       "      <td>0.342590</td>\n",
       "      <td>0.685781</td>\n",
       "      <td>0.324000</td>\n",
       "      <td>0.546142</td>\n",
       "      <td>0.369007</td>\n",
       "      <td>0.257956</td>\n",
       "      <td>0.575049</td>\n",
       "    </tr>\n",
       "    <tr>\n",
       "      <td>2018-02-19</td>\n",
       "      <td>0.970464</td>\n",
       "      <td>0.867282</td>\n",
       "      <td>0.276621</td>\n",
       "      <td>0.230235</td>\n",
       "      <td>0.300722</td>\n",
       "      <td>0.687259</td>\n",
       "      <td>0.476430</td>\n",
       "      <td>0.449781</td>\n",
       "      <td>0.257375</td>\n",
       "      <td>0.260816</td>\n",
       "      <td>0.566037</td>\n",
       "    </tr>\n",
       "    <tr>\n",
       "      <td>2018-02-20</td>\n",
       "      <td>0.977473</td>\n",
       "      <td>0.862517</td>\n",
       "      <td>0.173218</td>\n",
       "      <td>0.243246</td>\n",
       "      <td>0.359625</td>\n",
       "      <td>0.621923</td>\n",
       "      <td>0.491918</td>\n",
       "      <td>0.377018</td>\n",
       "      <td>0.155615</td>\n",
       "      <td>0.244581</td>\n",
       "      <td>0.513309</td>\n",
       "    </tr>\n",
       "    <tr>\n",
       "      <td>2018-02-21</td>\n",
       "      <td>0.964335</td>\n",
       "      <td>0.845025</td>\n",
       "      <td>0.190129</td>\n",
       "      <td>0.229168</td>\n",
       "      <td>0.392682</td>\n",
       "      <td>0.648370</td>\n",
       "      <td>0.492168</td>\n",
       "      <td>0.436386</td>\n",
       "      <td>0.185411</td>\n",
       "      <td>0.239042</td>\n",
       "      <td>0.585758</td>\n",
       "    </tr>\n",
       "    <tr>\n",
       "      <td>2018-02-22</td>\n",
       "      <td>0.964673</td>\n",
       "      <td>0.788829</td>\n",
       "      <td>0.281943</td>\n",
       "      <td>0.300434</td>\n",
       "      <td>0.361511</td>\n",
       "      <td>0.610408</td>\n",
       "      <td>0.385478</td>\n",
       "      <td>0.357335</td>\n",
       "      <td>0.193778</td>\n",
       "      <td>0.240104</td>\n",
       "      <td>0.460424</td>\n",
       "    </tr>\n",
       "    <tr>\n",
       "      <td>2018-02-23</td>\n",
       "      <td>0.970645</td>\n",
       "      <td>0.836416</td>\n",
       "      <td>0.344120</td>\n",
       "      <td>0.312919</td>\n",
       "      <td>0.311965</td>\n",
       "      <td>0.712858</td>\n",
       "      <td>0.430008</td>\n",
       "      <td>0.429171</td>\n",
       "      <td>0.313985</td>\n",
       "      <td>0.250298</td>\n",
       "      <td>0.550803</td>\n",
       "    </tr>\n",
       "    <tr>\n",
       "      <td>2018-02-24</td>\n",
       "      <td>0.971457</td>\n",
       "      <td>0.819967</td>\n",
       "      <td>0.460384</td>\n",
       "      <td>0.371762</td>\n",
       "      <td>0.333798</td>\n",
       "      <td>0.728448</td>\n",
       "      <td>0.357146</td>\n",
       "      <td>0.508033</td>\n",
       "      <td>0.343124</td>\n",
       "      <td>0.224291</td>\n",
       "      <td>0.604346</td>\n",
       "    </tr>\n",
       "    <tr>\n",
       "      <td>2018-02-25</td>\n",
       "      <td>0.958585</td>\n",
       "      <td>0.801366</td>\n",
       "      <td>0.520557</td>\n",
       "      <td>0.356889</td>\n",
       "      <td>0.347835</td>\n",
       "      <td>0.719686</td>\n",
       "      <td>0.280123</td>\n",
       "      <td>0.591666</td>\n",
       "      <td>0.364926</td>\n",
       "      <td>0.197508</td>\n",
       "      <td>0.690256</td>\n",
       "    </tr>\n",
       "  </tbody>\n",
       "</table>\n",
       "</div>"
      ],
      "text/plain": [
       "                Milk       Tea    Coffee     Onion   Yougurt     Bread  \\\n",
       "Date                                                                     \n",
       "2018-02-17  0.928224  0.740869  0.513411  0.390352  0.445495  0.700202   \n",
       "2018-02-18  0.937224  0.779872  0.516901  0.348236  0.342590  0.685781   \n",
       "2018-02-19  0.970464  0.867282  0.276621  0.230235  0.300722  0.687259   \n",
       "2018-02-20  0.977473  0.862517  0.173218  0.243246  0.359625  0.621923   \n",
       "2018-02-21  0.964335  0.845025  0.190129  0.229168  0.392682  0.648370   \n",
       "2018-02-22  0.964673  0.788829  0.281943  0.300434  0.361511  0.610408   \n",
       "2018-02-23  0.970645  0.836416  0.344120  0.312919  0.311965  0.712858   \n",
       "2018-02-24  0.971457  0.819967  0.460384  0.371762  0.333798  0.728448   \n",
       "2018-02-25  0.958585  0.801366  0.520557  0.356889  0.347835  0.719686   \n",
       "\n",
       "             Catchup       Egg      Fish  SoftDrink      Rice  \n",
       "Date                                                           \n",
       "2018-02-17  0.319493  0.554261  0.311186   0.224296  0.610882  \n",
       "2018-02-18  0.324000  0.546142  0.369007   0.257956  0.575049  \n",
       "2018-02-19  0.476430  0.449781  0.257375   0.260816  0.566037  \n",
       "2018-02-20  0.491918  0.377018  0.155615   0.244581  0.513309  \n",
       "2018-02-21  0.492168  0.436386  0.185411   0.239042  0.585758  \n",
       "2018-02-22  0.385478  0.357335  0.193778   0.240104  0.460424  \n",
       "2018-02-23  0.430008  0.429171  0.313985   0.250298  0.550803  \n",
       "2018-02-24  0.357146  0.508033  0.343124   0.224291  0.604346  \n",
       "2018-02-25  0.280123  0.591666  0.364926   0.197508  0.690256  "
      ]
     },
     "execution_count": 160,
     "metadata": {},
     "output_type": "execute_result"
    }
   ],
   "source": [
    "df_pred"
   ]
  },
  {
   "cell_type": "code",
   "execution_count": 161,
   "metadata": {},
   "outputs": [],
   "source": [
    "df_predected=pd.concat([test_df,df_pred],axis=1)"
   ]
  },
  {
   "cell_type": "code",
   "execution_count": 162,
   "metadata": {},
   "outputs": [
    {
     "data": {
      "text/html": [
       "<div>\n",
       "<style scoped>\n",
       "    .dataframe tbody tr th:only-of-type {\n",
       "        vertical-align: middle;\n",
       "    }\n",
       "\n",
       "    .dataframe tbody tr th {\n",
       "        vertical-align: top;\n",
       "    }\n",
       "\n",
       "    .dataframe thead th {\n",
       "        text-align: right;\n",
       "    }\n",
       "</style>\n",
       "<table border=\"1\" class=\"dataframe\">\n",
       "  <thead>\n",
       "    <tr style=\"text-align: right;\">\n",
       "      <th></th>\n",
       "      <th>Milk</th>\n",
       "      <th>Tea</th>\n",
       "      <th>Coffee</th>\n",
       "      <th>Onion</th>\n",
       "      <th>Yougurt</th>\n",
       "      <th>Bread</th>\n",
       "      <th>Catchup</th>\n",
       "      <th>Egg</th>\n",
       "      <th>Fish</th>\n",
       "      <th>SoftDrink</th>\n",
       "      <th>...</th>\n",
       "      <th>Tea</th>\n",
       "      <th>Coffee</th>\n",
       "      <th>Onion</th>\n",
       "      <th>Yougurt</th>\n",
       "      <th>Bread</th>\n",
       "      <th>Catchup</th>\n",
       "      <th>Egg</th>\n",
       "      <th>Fish</th>\n",
       "      <th>SoftDrink</th>\n",
       "      <th>Rice</th>\n",
       "    </tr>\n",
       "    <tr>\n",
       "      <th>Date</th>\n",
       "      <th></th>\n",
       "      <th></th>\n",
       "      <th></th>\n",
       "      <th></th>\n",
       "      <th></th>\n",
       "      <th></th>\n",
       "      <th></th>\n",
       "      <th></th>\n",
       "      <th></th>\n",
       "      <th></th>\n",
       "      <th></th>\n",
       "      <th></th>\n",
       "      <th></th>\n",
       "      <th></th>\n",
       "      <th></th>\n",
       "      <th></th>\n",
       "      <th></th>\n",
       "      <th></th>\n",
       "      <th></th>\n",
       "      <th></th>\n",
       "      <th></th>\n",
       "    </tr>\n",
       "  </thead>\n",
       "  <tbody>\n",
       "    <tr>\n",
       "      <td>2018-02-17</td>\n",
       "      <td>1</td>\n",
       "      <td>0</td>\n",
       "      <td>1</td>\n",
       "      <td>0</td>\n",
       "      <td>1</td>\n",
       "      <td>0</td>\n",
       "      <td>0</td>\n",
       "      <td>0</td>\n",
       "      <td>1</td>\n",
       "      <td>0</td>\n",
       "      <td>...</td>\n",
       "      <td>0.740869</td>\n",
       "      <td>0.513411</td>\n",
       "      <td>0.390352</td>\n",
       "      <td>0.445495</td>\n",
       "      <td>0.700202</td>\n",
       "      <td>0.319493</td>\n",
       "      <td>0.554261</td>\n",
       "      <td>0.311186</td>\n",
       "      <td>0.224296</td>\n",
       "      <td>0.610882</td>\n",
       "    </tr>\n",
       "    <tr>\n",
       "      <td>2018-02-18</td>\n",
       "      <td>1</td>\n",
       "      <td>0</td>\n",
       "      <td>0</td>\n",
       "      <td>0</td>\n",
       "      <td>1</td>\n",
       "      <td>0</td>\n",
       "      <td>0</td>\n",
       "      <td>0</td>\n",
       "      <td>0</td>\n",
       "      <td>1</td>\n",
       "      <td>...</td>\n",
       "      <td>0.779872</td>\n",
       "      <td>0.516901</td>\n",
       "      <td>0.348236</td>\n",
       "      <td>0.342590</td>\n",
       "      <td>0.685781</td>\n",
       "      <td>0.324000</td>\n",
       "      <td>0.546142</td>\n",
       "      <td>0.369007</td>\n",
       "      <td>0.257956</td>\n",
       "      <td>0.575049</td>\n",
       "    </tr>\n",
       "    <tr>\n",
       "      <td>2018-02-19</td>\n",
       "      <td>1</td>\n",
       "      <td>0</td>\n",
       "      <td>0</td>\n",
       "      <td>0</td>\n",
       "      <td>0</td>\n",
       "      <td>1</td>\n",
       "      <td>0</td>\n",
       "      <td>1</td>\n",
       "      <td>0</td>\n",
       "      <td>1</td>\n",
       "      <td>...</td>\n",
       "      <td>0.867282</td>\n",
       "      <td>0.276621</td>\n",
       "      <td>0.230235</td>\n",
       "      <td>0.300722</td>\n",
       "      <td>0.687259</td>\n",
       "      <td>0.476430</td>\n",
       "      <td>0.449781</td>\n",
       "      <td>0.257375</td>\n",
       "      <td>0.260816</td>\n",
       "      <td>0.566037</td>\n",
       "    </tr>\n",
       "    <tr>\n",
       "      <td>2018-02-20</td>\n",
       "      <td>1</td>\n",
       "      <td>1</td>\n",
       "      <td>0</td>\n",
       "      <td>1</td>\n",
       "      <td>0</td>\n",
       "      <td>1</td>\n",
       "      <td>0</td>\n",
       "      <td>0</td>\n",
       "      <td>0</td>\n",
       "      <td>0</td>\n",
       "      <td>...</td>\n",
       "      <td>0.862517</td>\n",
       "      <td>0.173218</td>\n",
       "      <td>0.243246</td>\n",
       "      <td>0.359625</td>\n",
       "      <td>0.621923</td>\n",
       "      <td>0.491918</td>\n",
       "      <td>0.377018</td>\n",
       "      <td>0.155615</td>\n",
       "      <td>0.244581</td>\n",
       "      <td>0.513309</td>\n",
       "    </tr>\n",
       "    <tr>\n",
       "      <td>2018-02-21</td>\n",
       "      <td>1</td>\n",
       "      <td>1</td>\n",
       "      <td>0</td>\n",
       "      <td>1</td>\n",
       "      <td>0</td>\n",
       "      <td>0</td>\n",
       "      <td>0</td>\n",
       "      <td>0</td>\n",
       "      <td>1</td>\n",
       "      <td>0</td>\n",
       "      <td>...</td>\n",
       "      <td>0.845025</td>\n",
       "      <td>0.190129</td>\n",
       "      <td>0.229168</td>\n",
       "      <td>0.392682</td>\n",
       "      <td>0.648370</td>\n",
       "      <td>0.492168</td>\n",
       "      <td>0.436386</td>\n",
       "      <td>0.185411</td>\n",
       "      <td>0.239042</td>\n",
       "      <td>0.585758</td>\n",
       "    </tr>\n",
       "    <tr>\n",
       "      <td>2018-02-22</td>\n",
       "      <td>1</td>\n",
       "      <td>1</td>\n",
       "      <td>1</td>\n",
       "      <td>0</td>\n",
       "      <td>0</td>\n",
       "      <td>0</td>\n",
       "      <td>0</td>\n",
       "      <td>0</td>\n",
       "      <td>0</td>\n",
       "      <td>0</td>\n",
       "      <td>...</td>\n",
       "      <td>0.788829</td>\n",
       "      <td>0.281943</td>\n",
       "      <td>0.300434</td>\n",
       "      <td>0.361511</td>\n",
       "      <td>0.610408</td>\n",
       "      <td>0.385478</td>\n",
       "      <td>0.357335</td>\n",
       "      <td>0.193778</td>\n",
       "      <td>0.240104</td>\n",
       "      <td>0.460424</td>\n",
       "    </tr>\n",
       "    <tr>\n",
       "      <td>2018-02-23</td>\n",
       "      <td>1</td>\n",
       "      <td>1</td>\n",
       "      <td>1</td>\n",
       "      <td>0</td>\n",
       "      <td>0</td>\n",
       "      <td>0</td>\n",
       "      <td>0</td>\n",
       "      <td>1</td>\n",
       "      <td>0</td>\n",
       "      <td>0</td>\n",
       "      <td>...</td>\n",
       "      <td>0.836416</td>\n",
       "      <td>0.344120</td>\n",
       "      <td>0.312919</td>\n",
       "      <td>0.311965</td>\n",
       "      <td>0.712858</td>\n",
       "      <td>0.430008</td>\n",
       "      <td>0.429171</td>\n",
       "      <td>0.313985</td>\n",
       "      <td>0.250298</td>\n",
       "      <td>0.550803</td>\n",
       "    </tr>\n",
       "    <tr>\n",
       "      <td>2018-02-24</td>\n",
       "      <td>1</td>\n",
       "      <td>1</td>\n",
       "      <td>0</td>\n",
       "      <td>1</td>\n",
       "      <td>1</td>\n",
       "      <td>1</td>\n",
       "      <td>0</td>\n",
       "      <td>0</td>\n",
       "      <td>0</td>\n",
       "      <td>0</td>\n",
       "      <td>...</td>\n",
       "      <td>0.819967</td>\n",
       "      <td>0.460384</td>\n",
       "      <td>0.371762</td>\n",
       "      <td>0.333798</td>\n",
       "      <td>0.728448</td>\n",
       "      <td>0.357146</td>\n",
       "      <td>0.508033</td>\n",
       "      <td>0.343124</td>\n",
       "      <td>0.224291</td>\n",
       "      <td>0.604346</td>\n",
       "    </tr>\n",
       "    <tr>\n",
       "      <td>2018-02-25</td>\n",
       "      <td>1</td>\n",
       "      <td>0</td>\n",
       "      <td>0</td>\n",
       "      <td>0</td>\n",
       "      <td>0</td>\n",
       "      <td>1</td>\n",
       "      <td>0</td>\n",
       "      <td>1</td>\n",
       "      <td>0</td>\n",
       "      <td>1</td>\n",
       "      <td>...</td>\n",
       "      <td>0.801366</td>\n",
       "      <td>0.520557</td>\n",
       "      <td>0.356889</td>\n",
       "      <td>0.347835</td>\n",
       "      <td>0.719686</td>\n",
       "      <td>0.280123</td>\n",
       "      <td>0.591666</td>\n",
       "      <td>0.364926</td>\n",
       "      <td>0.197508</td>\n",
       "      <td>0.690256</td>\n",
       "    </tr>\n",
       "  </tbody>\n",
       "</table>\n",
       "<p>9 rows × 22 columns</p>\n",
       "</div>"
      ],
      "text/plain": [
       "            Milk  Tea  Coffee  Onion  Yougurt  Bread  Catchup  Egg  Fish  \\\n",
       "Date                                                                       \n",
       "2018-02-17     1    0       1      0        1      0        0    0     1   \n",
       "2018-02-18     1    0       0      0        1      0        0    0     0   \n",
       "2018-02-19     1    0       0      0        0      1        0    1     0   \n",
       "2018-02-20     1    1       0      1        0      1        0    0     0   \n",
       "2018-02-21     1    1       0      1        0      0        0    0     1   \n",
       "2018-02-22     1    1       1      0        0      0        0    0     0   \n",
       "2018-02-23     1    1       1      0        0      0        0    1     0   \n",
       "2018-02-24     1    1       0      1        1      1        0    0     0   \n",
       "2018-02-25     1    0       0      0        0      1        0    1     0   \n",
       "\n",
       "            SoftDrink  ...       Tea    Coffee     Onion   Yougurt     Bread  \\\n",
       "Date                   ...                                                     \n",
       "2018-02-17          0  ...  0.740869  0.513411  0.390352  0.445495  0.700202   \n",
       "2018-02-18          1  ...  0.779872  0.516901  0.348236  0.342590  0.685781   \n",
       "2018-02-19          1  ...  0.867282  0.276621  0.230235  0.300722  0.687259   \n",
       "2018-02-20          0  ...  0.862517  0.173218  0.243246  0.359625  0.621923   \n",
       "2018-02-21          0  ...  0.845025  0.190129  0.229168  0.392682  0.648370   \n",
       "2018-02-22          0  ...  0.788829  0.281943  0.300434  0.361511  0.610408   \n",
       "2018-02-23          0  ...  0.836416  0.344120  0.312919  0.311965  0.712858   \n",
       "2018-02-24          0  ...  0.819967  0.460384  0.371762  0.333798  0.728448   \n",
       "2018-02-25          1  ...  0.801366  0.520557  0.356889  0.347835  0.719686   \n",
       "\n",
       "             Catchup       Egg      Fish  SoftDrink      Rice  \n",
       "Date                                                           \n",
       "2018-02-17  0.319493  0.554261  0.311186   0.224296  0.610882  \n",
       "2018-02-18  0.324000  0.546142  0.369007   0.257956  0.575049  \n",
       "2018-02-19  0.476430  0.449781  0.257375   0.260816  0.566037  \n",
       "2018-02-20  0.491918  0.377018  0.155615   0.244581  0.513309  \n",
       "2018-02-21  0.492168  0.436386  0.185411   0.239042  0.585758  \n",
       "2018-02-22  0.385478  0.357335  0.193778   0.240104  0.460424  \n",
       "2018-02-23  0.430008  0.429171  0.313985   0.250298  0.550803  \n",
       "2018-02-24  0.357146  0.508033  0.343124   0.224291  0.604346  \n",
       "2018-02-25  0.280123  0.591666  0.364926   0.197508  0.690256  \n",
       "\n",
       "[9 rows x 22 columns]"
      ]
     },
     "execution_count": 162,
     "metadata": {},
     "output_type": "execute_result"
    }
   ],
   "source": [
    "df_predected"
   ]
  },
  {
   "cell_type": "code",
   "execution_count": 163,
   "metadata": {},
   "outputs": [],
   "source": [
    "import matplotlib.pyplot as plt"
   ]
  },
  {
   "cell_type": "code",
   "execution_count": 209,
   "metadata": {},
   "outputs": [
    {
     "data": {
      "text/plain": [
       "<matplotlib.legend.Legend at 0x1e679e497c8>"
      ]
     },
     "execution_count": 209,
     "metadata": {},
     "output_type": "execute_result"
    },
    {
     "data": {
      "image/png": "[encoded data removed]",
      "text/plain": [
       "<Figure size 792x360 with 1 Axes>"
      ]
     },
     "metadata": {
      "needs_background": "light"
     },
     "output_type": "display_data"
    }
   ],
   "source": [
    "plt.figure(figsize=(11,5))\n",
    "# plt.plot(df_pred.index,df_pred['Milk'])\n",
    "# plt.plot(normalize_data.index,normalize_data['Milk'])\n",
    "\n",
    "plt.plot(df_pred.index,df_pred['Egg'],label='Predicted')\n",
    "plt.plot(normalize_data.index,normalize_data['Egg'],label='Actual')\n",
    "plt.legend()\n",
    "\n",
    "# plt.plot(df_pred.index,df_pred['Coffee'])\n",
    "# plt.plot(normalize_data.index,normalize_data['Coffee'])"
   ]
  },
  {
   "cell_type": "code",
   "execution_count": 210,
   "metadata": {},
   "outputs": [],
   "source": [
    "model.save('data.h5')"
   ]
  },
  {
   "cell_type": "code",
   "execution_count": 211,
   "metadata": {},
   "outputs": [],
   "source": [
    "from keras.models import load_model"
   ]
  },
  {
   "cell_type": "code",
   "execution_count": 213,
   "metadata": {},
   "outputs": [],
   "source": [
    "loaded_model=load_model('data.h5')"
   ]
  },
  {
   "cell_type": "code",
   "execution_count": 215,
   "metadata": {},
   "outputs": [
    {
     "name": "stdout",
     "output_type": "stream",
     "text": [
      "Model: \"sequential_1\"\n",
      "_________________________________________________________________\n",
      "Layer (type)                 Output Shape              Param #   \n",
      "=================================================================\n",
      "lstm_1 (LSTM)                (None, 200)               169600    \n",
      "_________________________________________________________________\n",
      "dropout_1 (Dropout)          (None, 200)               0         \n",
      "_________________________________________________________________\n",
      "dense_1 (Dense)              (None, 126)               25326     \n",
      "_________________________________________________________________\n",
      "dense_2 (Dense)              (None, 11)                1397      \n",
      "=================================================================\n",
      "Total params: 196,323\n",
      "Trainable params: 196,323\n",
      "Non-trainable params: 0\n",
      "_________________________________________________________________\n"
     ]
    }
   ],
   "source": [
    "loaded_model.summary()"
   ]
  },
  {
   "cell_type": "code",
   "execution_count": null,
   "metadata": {},
   "outputs": [],
   "source": []
  }
 ],
 "metadata": {
  "kernelspec": {
   "display_name": "Python 3",
   "language": "python",
   "name": "python3"
  },
  "language_info": {
   "codemirror_mode": {
    "name": "ipython",
    "version": 3
   },
   "file_extension": ".py",
   "mimetype": "text/x-python",
   "name": "python",
   "nbconvert_exporter": "python",
   "pygments_lexer": "ipython3",
   "version": "3.7.4"
  }
 },
 "nbformat": 4,
 "nbformat_minor": 2
}
